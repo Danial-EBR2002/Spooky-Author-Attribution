{
 "cells": [
  {
   "cell_type": "markdown",
   "metadata": {},
   "source": [
    "# Danial Ebrazeh - SCU Student"
   ]
  },
  {
   "cell_type": "code",
   "execution_count": 14,
   "metadata": {},
   "outputs": [
    {
     "name": "stdout",
     "output_type": "stream",
     "text": [
      "Base directory: C:\\Users\\13811\\Desktop\\Uni\\Data mining and Machine learning\\Data_Maining_Spooky_Author_40173126_Final\n",
      "Using device: cuda\n"
     ]
    }
   ],
   "source": [
    "import pandas as pd\n",
    "import torch\n",
    "from pathlib import Path\n",
    "from torch.utils.data import Dataset, DataLoader\n",
    "from transformers import BertTokenizer, BertModel\n",
    "from torch.optim import AdamW\n",
    "from sklearn.preprocessing import LabelEncoder\n",
    "from sklearn.metrics import accuracy_score, classification_report\n",
    "from tqdm.auto import tqdm\n",
    "\n",
    "try:\n",
    "    BASE_DIR = Path(__file__).parent\n",
    "except NameError:\n",
    "    BASE_DIR = Path().resolve()\n",
    "\n",
    "print(\"Base directory:\", BASE_DIR)\n",
    "device = torch.device(\"cuda\" if torch.cuda.is_available() else \"cpu\")\n",
    "print(\"Using device:\", device)\n"
   ]
  },
  {
   "cell_type": "code",
   "execution_count": 15,
   "metadata": {},
   "outputs": [
    {
     "name": "stdout",
     "output_type": "stream",
     "text": [
      "Author classes: ['EAP' 'HPL' 'MWS']\n"
     ]
    }
   ],
   "source": [
    "train_df = pd.read_csv(BASE_DIR / \"train.csv\")\n",
    "val_df   = pd.read_csv(BASE_DIR / \"val.csv\")\n",
    "test_df  = pd.read_csv(BASE_DIR / \"test.csv\")\n",
    "\n",
    "le = LabelEncoder()\n",
    "train_labels = le.fit_transform(train_df[\"author\"])\n",
    "val_labels = le.transform(val_df[\"author\"])\n",
    "test_labels = le.transform(test_df[\"author\"])\n",
    "\n",
    "print(\"Author classes:\", le.classes_)\n"
   ]
  },
  {
   "cell_type": "code",
   "execution_count": 16,
   "metadata": {},
   "outputs": [],
   "source": [
    "tokenizer = BertTokenizer.from_pretrained(\"bert-base-uncased\")\n",
    "\n",
    "def encode_texts(texts, max_len=256):\n",
    "\n",
    "    return tokenizer(\n",
    "        texts.tolist(),\n",
    "        padding=\"max_length\",\n",
    "        truncation=True,\n",
    "        max_length=max_len,\n",
    "        return_tensors=\"pt\"\n",
    "    )\n"
   ]
  },
  {
   "cell_type": "code",
   "execution_count": 17,
   "metadata": {},
   "outputs": [],
   "source": [
    "class AuthorDataset(Dataset):\n",
    "    def __init__(self, texts, labels, tokenizer):\n",
    "        encodings = encode_texts(texts)\n",
    "        self.input_ids = encodings[\"input_ids\"]\n",
    "        self.attention_mask = encodings[\"attention_mask\"]\n",
    "        self.labels = torch.tensor(labels, dtype=torch.long)\n",
    "\n",
    "    def __len__(self):\n",
    "        return len(self.labels)\n",
    "\n",
    "    def __getitem__(self, idx):\n",
    "        return {\n",
    "            \"input_ids\": self.input_ids[idx],\n",
    "            \"attention_mask\": self.attention_mask[idx],\n",
    "            \"labels\": self.labels[idx]\n",
    "        }\n",
    "\n",
    "train_ds = AuthorDataset(train_df[\"text\"], train_labels, tokenizer)\n",
    "val_ds = AuthorDataset(val_df[\"text\"], val_labels, tokenizer)\n",
    "test_ds = AuthorDataset(test_df[\"text\"], test_labels, tokenizer)\n",
    "\n",
    "train_loader = DataLoader(train_ds, batch_size=16, shuffle=True)\n",
    "val_loader = DataLoader(val_ds, batch_size=16)\n",
    "test_loader = DataLoader(test_ds, batch_size=16)\n"
   ]
  },
  {
   "cell_type": "code",
   "execution_count": 18,
   "metadata": {},
   "outputs": [
    {
     "data": {
      "text/plain": [
       "BertModel(\n",
       "  (embeddings): BertEmbeddings(\n",
       "    (word_embeddings): Embedding(30522, 768, padding_idx=0)\n",
       "    (position_embeddings): Embedding(512, 768)\n",
       "    (token_type_embeddings): Embedding(2, 768)\n",
       "    (LayerNorm): LayerNorm((768,), eps=1e-12, elementwise_affine=True)\n",
       "    (dropout): Dropout(p=0.1, inplace=False)\n",
       "  )\n",
       "  (encoder): BertEncoder(\n",
       "    (layer): ModuleList(\n",
       "      (0-11): 12 x BertLayer(\n",
       "        (attention): BertAttention(\n",
       "          (self): BertSdpaSelfAttention(\n",
       "            (query): Linear(in_features=768, out_features=768, bias=True)\n",
       "            (key): Linear(in_features=768, out_features=768, bias=True)\n",
       "            (value): Linear(in_features=768, out_features=768, bias=True)\n",
       "            (dropout): Dropout(p=0.1, inplace=False)\n",
       "          )\n",
       "          (output): BertSelfOutput(\n",
       "            (dense): Linear(in_features=768, out_features=768, bias=True)\n",
       "            (LayerNorm): LayerNorm((768,), eps=1e-12, elementwise_affine=True)\n",
       "            (dropout): Dropout(p=0.1, inplace=False)\n",
       "          )\n",
       "        )\n",
       "        (intermediate): BertIntermediate(\n",
       "          (dense): Linear(in_features=768, out_features=3072, bias=True)\n",
       "          (intermediate_act_fn): GELUActivation()\n",
       "        )\n",
       "        (output): BertOutput(\n",
       "          (dense): Linear(in_features=3072, out_features=768, bias=True)\n",
       "          (LayerNorm): LayerNorm((768,), eps=1e-12, elementwise_affine=True)\n",
       "          (dropout): Dropout(p=0.1, inplace=False)\n",
       "        )\n",
       "      )\n",
       "    )\n",
       "  )\n",
       "  (pooler): BertPooler(\n",
       "    (dense): Linear(in_features=768, out_features=768, bias=True)\n",
       "    (activation): Tanh()\n",
       "  )\n",
       ")"
      ]
     },
     "execution_count": 18,
     "metadata": {},
     "output_type": "execute_result"
    }
   ],
   "source": [
    "import torch.nn as nn\n",
    "\n",
    "class BertClassifier(nn.Module):\n",
    "    def __init__(self, num_classes):\n",
    "        super().__init__()\n",
    "        self.bert = BertModel.from_pretrained(\"bert-base-uncased\")\n",
    "        self.dropout = nn.Dropout(0.5)\n",
    "        self.hidden1 = nn.Linear(self.bert.config.hidden_size, 512)\n",
    "        self.bn1 = nn.BatchNorm1d(512)\n",
    "        self.hidden2 = nn.Linear(512, 256)\n",
    "        self.bn2 = nn.BatchNorm1d(256)\n",
    "        self.hidden3 = nn.Linear(256, 128)\n",
    "        self.output = nn.Linear(128, num_classes)\n",
    "        self.relu = nn.ReLU()\n",
    "\n",
    "    def forward(self, input_ids, attention_mask):\n",
    "        outputs = self.bert(input_ids=input_ids, attention_mask=attention_mask)\n",
    "        x = outputs.pooler_output\n",
    "        x = self.dropout(self.relu(self.bn1(self.hidden1(x))))\n",
    "        x = self.dropout(self.relu(self.bn2(self.hidden2(x))))\n",
    "        x = self.output(self.hidden3(x))\n",
    "        return x\n",
    "\n",
    "model = BertClassifier(num_classes=len(le.classes_)).to(device)\n",
    "model.bert.requires_grad_(True)\n"
   ]
  },
  {
   "cell_type": "code",
   "execution_count": 19,
   "metadata": {},
   "outputs": [],
   "source": [
    "def train_epoch(model, loader, optimizer, criterion, device):\n",
    "\n",
    "    model.train()\n",
    "    losses = []\n",
    "    for batch in tqdm(loader, desc=\"Training\"):\n",
    "        optimizer.zero_grad()\n",
    "        input_ids = batch[\"input_ids\"].to(device)\n",
    "        attention_mask = batch[\"attention_mask\"].to(device)\n",
    "        labels = batch[\"labels\"].to(device)\n",
    "        logits = model(input_ids, attention_mask)\n",
    "        loss = criterion(logits, labels)\n",
    "        loss.backward()\n",
    "        optimizer.step()\n",
    "        losses.append(loss.item())\n",
    "    return sum(losses) / len(losses)\n",
    "\n",
    "def eval_model(model, loader, device, le):\n",
    "\n",
    "    model.eval()\n",
    "    preds, trues = [], []\n",
    "    with torch.no_grad():\n",
    "        for batch in tqdm(loader, desc=\"Evaluating\"):\n",
    "            input_ids = batch[\"input_ids\"].to(device)\n",
    "            attention_mask = batch[\"attention_mask\"].to(device)\n",
    "            labels = batch[\"labels\"].to(device)\n",
    "            logits = model(input_ids, attention_mask)\n",
    "            preds.extend(torch.argmax(logits, dim=1).cpu().numpy())\n",
    "            trues.extend(labels.cpu().numpy())\n",
    "    acc = accuracy_score(trues, preds)\n",
    "    report = classification_report(trues, preds, target_names=le.classes_)\n",
    "    return acc, report\n"
   ]
  },
  {
   "cell_type": "code",
   "execution_count": 20,
   "metadata": {},
   "outputs": [],
   "source": [
    "optimizer = AdamW([\n",
    "    {\"params\": model.bert.parameters(), \"lr\": 2e-5},\n",
    "    {\"params\": model.hidden1.parameters(), \"lr\": 1e-3},\n",
    "    {\"params\": model.hidden2.parameters(), \"lr\": 1e-3},\n",
    "    {\"params\": model.hidden3.parameters(), \"lr\": 1e-3},\n",
    "    {\"params\": model.output.parameters(), \"lr\": 1e-3},\n",
    "])\n"
   ]
  },
  {
   "cell_type": "code",
   "execution_count": 21,
   "metadata": {},
   "outputs": [],
   "source": [
    "from torch.nn import CrossEntropyLoss\n",
    "criterion = CrossEntropyLoss()"
   ]
  },
  {
   "cell_type": "code",
   "execution_count": 9,
   "metadata": {},
   "outputs": [
    {
     "name": "stdout",
     "output_type": "stream",
     "text": [
      "Epoch 1\n"
     ]
    },
    {
     "name": "stderr",
     "output_type": "stream",
     "text": [
      "Training: 100%|██████████| 2399/2399 [11:26<00:00,  3.50it/s]\n"
     ]
    },
    {
     "name": "stdout",
     "output_type": "stream",
     "text": [
      "Train loss: 0.5698\n"
     ]
    },
    {
     "name": "stderr",
     "output_type": "stream",
     "text": [
      "Evaluating: 100%|██████████| 300/300 [00:28<00:00, 10.68it/s]\n"
     ]
    },
    {
     "name": "stdout",
     "output_type": "stream",
     "text": [
      "Validation Accuracy: 0.8424\n",
      "              precision    recall  f1-score   support\n",
      "\n",
      "         EAP       0.87      0.80      0.83      1992\n",
      "         HPL       0.86      0.89      0.87      1307\n",
      "         MWS       0.80      0.86      0.83      1498\n",
      "\n",
      "    accuracy                           0.84      4797\n",
      "   macro avg       0.84      0.85      0.84      4797\n",
      "weighted avg       0.84      0.84      0.84      4797\n",
      "\n",
      "Model saved!\n",
      "Epoch 2\n"
     ]
    },
    {
     "name": "stderr",
     "output_type": "stream",
     "text": [
      "Training: 100%|██████████| 2399/2399 [11:41<00:00,  3.42it/s]\n"
     ]
    },
    {
     "name": "stdout",
     "output_type": "stream",
     "text": [
      "Train loss: 0.2978\n"
     ]
    },
    {
     "name": "stderr",
     "output_type": "stream",
     "text": [
      "Evaluating: 100%|██████████| 300/300 [00:28<00:00, 10.61it/s]\n"
     ]
    },
    {
     "name": "stdout",
     "output_type": "stream",
     "text": [
      "Validation Accuracy: 0.8730\n",
      "              precision    recall  f1-score   support\n",
      "\n",
      "         EAP       0.86      0.88      0.87      1992\n",
      "         HPL       0.91      0.86      0.89      1307\n",
      "         MWS       0.85      0.88      0.86      1498\n",
      "\n",
      "    accuracy                           0.87      4797\n",
      "   macro avg       0.88      0.87      0.87      4797\n",
      "weighted avg       0.87      0.87      0.87      4797\n",
      "\n",
      "Model saved!\n",
      "Epoch 3\n"
     ]
    },
    {
     "name": "stderr",
     "output_type": "stream",
     "text": [
      "Training: 100%|██████████| 2399/2399 [11:44<00:00,  3.40it/s]\n"
     ]
    },
    {
     "name": "stdout",
     "output_type": "stream",
     "text": [
      "Train loss: 0.1598\n"
     ]
    },
    {
     "name": "stderr",
     "output_type": "stream",
     "text": [
      "Evaluating: 100%|██████████| 300/300 [00:28<00:00, 10.57it/s]\n"
     ]
    },
    {
     "name": "stdout",
     "output_type": "stream",
     "text": [
      "Validation Accuracy: 0.8851\n",
      "              precision    recall  f1-score   support\n",
      "\n",
      "         EAP       0.88      0.89      0.88      1992\n",
      "         HPL       0.91      0.90      0.90      1307\n",
      "         MWS       0.88      0.87      0.87      1498\n",
      "\n",
      "    accuracy                           0.89      4797\n",
      "   macro avg       0.89      0.89      0.89      4797\n",
      "weighted avg       0.89      0.89      0.89      4797\n",
      "\n",
      "Model saved!\n",
      "Epoch 4\n"
     ]
    },
    {
     "name": "stderr",
     "output_type": "stream",
     "text": [
      "Training: 100%|██████████| 2399/2399 [11:45<00:00,  3.40it/s]\n"
     ]
    },
    {
     "name": "stdout",
     "output_type": "stream",
     "text": [
      "Train loss: 0.0938\n"
     ]
    },
    {
     "name": "stderr",
     "output_type": "stream",
     "text": [
      "Evaluating: 100%|██████████| 300/300 [00:28<00:00, 10.52it/s]\n"
     ]
    },
    {
     "name": "stdout",
     "output_type": "stream",
     "text": [
      "Validation Accuracy: 0.8516\n",
      "              precision    recall  f1-score   support\n",
      "\n",
      "         EAP       0.93      0.75      0.83      1992\n",
      "         HPL       0.84      0.91      0.87      1307\n",
      "         MWS       0.79      0.93      0.85      1498\n",
      "\n",
      "    accuracy                           0.85      4797\n",
      "   macro avg       0.85      0.86      0.85      4797\n",
      "weighted avg       0.86      0.85      0.85      4797\n",
      "\n",
      "Epoch 5\n"
     ]
    },
    {
     "name": "stderr",
     "output_type": "stream",
     "text": [
      "Training: 100%|██████████| 2399/2399 [11:44<00:00,  3.41it/s]\n"
     ]
    },
    {
     "name": "stdout",
     "output_type": "stream",
     "text": [
      "Train loss: 0.0689\n"
     ]
    },
    {
     "name": "stderr",
     "output_type": "stream",
     "text": [
      "Evaluating: 100%|██████████| 300/300 [00:28<00:00, 10.64it/s]\n"
     ]
    },
    {
     "name": "stdout",
     "output_type": "stream",
     "text": [
      "Validation Accuracy: 0.8837\n",
      "              precision    recall  f1-score   support\n",
      "\n",
      "         EAP       0.90      0.86      0.88      1992\n",
      "         HPL       0.90      0.90      0.90      1307\n",
      "         MWS       0.86      0.90      0.88      1498\n",
      "\n",
      "    accuracy                           0.88      4797\n",
      "   macro avg       0.88      0.89      0.88      4797\n",
      "weighted avg       0.88      0.88      0.88      4797\n",
      "\n",
      "Epoch 6\n"
     ]
    },
    {
     "name": "stderr",
     "output_type": "stream",
     "text": [
      "Training: 100%|██████████| 2399/2399 [11:43<00:00,  3.41it/s]\n"
     ]
    },
    {
     "name": "stdout",
     "output_type": "stream",
     "text": [
      "Train loss: 0.0522\n"
     ]
    },
    {
     "name": "stderr",
     "output_type": "stream",
     "text": [
      "Evaluating: 100%|██████████| 300/300 [00:28<00:00, 10.51it/s]\n"
     ]
    },
    {
     "name": "stdout",
     "output_type": "stream",
     "text": [
      "Validation Accuracy: 0.8853\n",
      "              precision    recall  f1-score   support\n",
      "\n",
      "         EAP       0.86      0.92      0.89      1992\n",
      "         HPL       0.94      0.86      0.90      1307\n",
      "         MWS       0.87      0.87      0.87      1498\n",
      "\n",
      "    accuracy                           0.89      4797\n",
      "   macro avg       0.89      0.88      0.89      4797\n",
      "weighted avg       0.89      0.89      0.89      4797\n",
      "\n",
      "Model saved!\n",
      "Epoch 7\n"
     ]
    },
    {
     "name": "stderr",
     "output_type": "stream",
     "text": [
      "Training: 100%|██████████| 2399/2399 [11:44<00:00,  3.41it/s]\n"
     ]
    },
    {
     "name": "stdout",
     "output_type": "stream",
     "text": [
      "Train loss: 0.0471\n"
     ]
    },
    {
     "name": "stderr",
     "output_type": "stream",
     "text": [
      "Evaluating: 100%|██████████| 300/300 [00:28<00:00, 10.58it/s]\n"
     ]
    },
    {
     "name": "stdout",
     "output_type": "stream",
     "text": [
      "Validation Accuracy: 0.8801\n",
      "              precision    recall  f1-score   support\n",
      "\n",
      "         EAP       0.86      0.90      0.88      1992\n",
      "         HPL       0.88      0.91      0.89      1307\n",
      "         MWS       0.90      0.83      0.86      1498\n",
      "\n",
      "    accuracy                           0.88      4797\n",
      "   macro avg       0.88      0.88      0.88      4797\n",
      "weighted avg       0.88      0.88      0.88      4797\n",
      "\n",
      "Epoch 8\n"
     ]
    },
    {
     "name": "stderr",
     "output_type": "stream",
     "text": [
      "Training: 100%|██████████| 2399/2399 [11:44<00:00,  3.41it/s]\n"
     ]
    },
    {
     "name": "stdout",
     "output_type": "stream",
     "text": [
      "Train loss: 0.0404\n"
     ]
    },
    {
     "name": "stderr",
     "output_type": "stream",
     "text": [
      "Evaluating: 100%|██████████| 300/300 [00:28<00:00, 10.57it/s]\n"
     ]
    },
    {
     "name": "stdout",
     "output_type": "stream",
     "text": [
      "Validation Accuracy: 0.8774\n",
      "              precision    recall  f1-score   support\n",
      "\n",
      "         EAP       0.85      0.90      0.87      1992\n",
      "         HPL       0.92      0.88      0.90      1307\n",
      "         MWS       0.88      0.84      0.86      1498\n",
      "\n",
      "    accuracy                           0.88      4797\n",
      "   macro avg       0.88      0.87      0.88      4797\n",
      "weighted avg       0.88      0.88      0.88      4797\n",
      "\n",
      "Epoch 9\n"
     ]
    },
    {
     "name": "stderr",
     "output_type": "stream",
     "text": [
      "Training: 100%|██████████| 2399/2399 [11:44<00:00,  3.40it/s]\n"
     ]
    },
    {
     "name": "stdout",
     "output_type": "stream",
     "text": [
      "Train loss: 0.0357\n"
     ]
    },
    {
     "name": "stderr",
     "output_type": "stream",
     "text": [
      "Evaluating: 100%|██████████| 300/300 [00:28<00:00, 10.58it/s]\n"
     ]
    },
    {
     "name": "stdout",
     "output_type": "stream",
     "text": [
      "Validation Accuracy: 0.8662\n",
      "              precision    recall  f1-score   support\n",
      "\n",
      "         EAP       0.92      0.80      0.86      1992\n",
      "         HPL       0.90      0.90      0.90      1307\n",
      "         MWS       0.79      0.93      0.85      1498\n",
      "\n",
      "    accuracy                           0.87      4797\n",
      "   macro avg       0.87      0.87      0.87      4797\n",
      "weighted avg       0.87      0.87      0.87      4797\n",
      "\n",
      "Epoch 10\n"
     ]
    },
    {
     "name": "stderr",
     "output_type": "stream",
     "text": [
      "Training: 100%|██████████| 2399/2399 [11:43<00:00,  3.41it/s]\n"
     ]
    },
    {
     "name": "stdout",
     "output_type": "stream",
     "text": [
      "Train loss: 0.0370\n"
     ]
    },
    {
     "name": "stderr",
     "output_type": "stream",
     "text": [
      "Evaluating: 100%|██████████| 300/300 [00:28<00:00, 10.64it/s]\n"
     ]
    },
    {
     "name": "stdout",
     "output_type": "stream",
     "text": [
      "Validation Accuracy: 0.8509\n",
      "              precision    recall  f1-score   support\n",
      "\n",
      "         EAP       0.90      0.78      0.84      1992\n",
      "         HPL       0.95      0.85      0.89      1307\n",
      "         MWS       0.75      0.94      0.84      1498\n",
      "\n",
      "    accuracy                           0.85      4797\n",
      "   macro avg       0.86      0.86      0.86      4797\n",
      "weighted avg       0.86      0.85      0.85      4797\n",
      "\n",
      "Epoch 11\n"
     ]
    },
    {
     "name": "stderr",
     "output_type": "stream",
     "text": [
      "Training: 100%|██████████| 2399/2399 [11:42<00:00,  3.41it/s]\n"
     ]
    },
    {
     "name": "stdout",
     "output_type": "stream",
     "text": [
      "Train loss: 0.0289\n"
     ]
    },
    {
     "name": "stderr",
     "output_type": "stream",
     "text": [
      "Evaluating: 100%|██████████| 300/300 [00:28<00:00, 10.60it/s]\n"
     ]
    },
    {
     "name": "stdout",
     "output_type": "stream",
     "text": [
      "Validation Accuracy: 0.8851\n",
      "              precision    recall  f1-score   support\n",
      "\n",
      "         EAP       0.86      0.91      0.88      1992\n",
      "         HPL       0.93      0.87      0.90      1307\n",
      "         MWS       0.88      0.87      0.87      1498\n",
      "\n",
      "    accuracy                           0.89      4797\n",
      "   macro avg       0.89      0.88      0.89      4797\n",
      "weighted avg       0.89      0.89      0.89      4797\n",
      "\n",
      "Epoch 12\n"
     ]
    },
    {
     "name": "stderr",
     "output_type": "stream",
     "text": [
      "Training: 100%|██████████| 2399/2399 [11:42<00:00,  3.41it/s]\n"
     ]
    },
    {
     "name": "stdout",
     "output_type": "stream",
     "text": [
      "Train loss: 0.0301\n"
     ]
    },
    {
     "name": "stderr",
     "output_type": "stream",
     "text": [
      "Evaluating: 100%|██████████| 300/300 [00:28<00:00, 10.64it/s]\n"
     ]
    },
    {
     "name": "stdout",
     "output_type": "stream",
     "text": [
      "Validation Accuracy: 0.8783\n",
      "              precision    recall  f1-score   support\n",
      "\n",
      "         EAP       0.90      0.86      0.88      1992\n",
      "         HPL       0.92      0.88      0.90      1307\n",
      "         MWS       0.83      0.90      0.86      1498\n",
      "\n",
      "    accuracy                           0.88      4797\n",
      "   macro avg       0.88      0.88      0.88      4797\n",
      "weighted avg       0.88      0.88      0.88      4797\n",
      "\n",
      "Epoch 13\n"
     ]
    },
    {
     "name": "stderr",
     "output_type": "stream",
     "text": [
      "Training: 100%|██████████| 2399/2399 [11:43<00:00,  3.41it/s]\n"
     ]
    },
    {
     "name": "stdout",
     "output_type": "stream",
     "text": [
      "Train loss: 0.0245\n"
     ]
    },
    {
     "name": "stderr",
     "output_type": "stream",
     "text": [
      "Evaluating: 100%|██████████| 300/300 [00:28<00:00, 10.59it/s]\n"
     ]
    },
    {
     "name": "stdout",
     "output_type": "stream",
     "text": [
      "Validation Accuracy: 0.8755\n",
      "              precision    recall  f1-score   support\n",
      "\n",
      "         EAP       0.83      0.91      0.87      1992\n",
      "         HPL       0.93      0.86      0.89      1307\n",
      "         MWS       0.90      0.83      0.86      1498\n",
      "\n",
      "    accuracy                           0.88      4797\n",
      "   macro avg       0.89      0.87      0.88      4797\n",
      "weighted avg       0.88      0.88      0.88      4797\n",
      "\n",
      "Epoch 14\n"
     ]
    },
    {
     "name": "stderr",
     "output_type": "stream",
     "text": [
      "Training: 100%|██████████| 2399/2399 [11:44<00:00,  3.41it/s]\n"
     ]
    },
    {
     "name": "stdout",
     "output_type": "stream",
     "text": [
      "Train loss: 0.0262\n"
     ]
    },
    {
     "name": "stderr",
     "output_type": "stream",
     "text": [
      "Evaluating: 100%|██████████| 300/300 [00:28<00:00, 10.55it/s]\n"
     ]
    },
    {
     "name": "stdout",
     "output_type": "stream",
     "text": [
      "Validation Accuracy: 0.8824\n",
      "              precision    recall  f1-score   support\n",
      "\n",
      "         EAP       0.90      0.86      0.88      1992\n",
      "         HPL       0.90      0.90      0.90      1307\n",
      "         MWS       0.84      0.90      0.87      1498\n",
      "\n",
      "    accuracy                           0.88      4797\n",
      "   macro avg       0.88      0.89      0.88      4797\n",
      "weighted avg       0.88      0.88      0.88      4797\n",
      "\n",
      "Epoch 15\n"
     ]
    },
    {
     "name": "stderr",
     "output_type": "stream",
     "text": [
      "Training: 100%|██████████| 2399/2399 [11:43<00:00,  3.41it/s]\n"
     ]
    },
    {
     "name": "stdout",
     "output_type": "stream",
     "text": [
      "Train loss: 0.0245\n"
     ]
    },
    {
     "name": "stderr",
     "output_type": "stream",
     "text": [
      "Evaluating: 100%|██████████| 300/300 [00:28<00:00, 10.55it/s]\n"
     ]
    },
    {
     "name": "stdout",
     "output_type": "stream",
     "text": [
      "Validation Accuracy: 0.8691\n",
      "              precision    recall  f1-score   support\n",
      "\n",
      "         EAP       0.92      0.82      0.87      1992\n",
      "         HPL       0.92      0.88      0.90      1307\n",
      "         MWS       0.79      0.93      0.85      1498\n",
      "\n",
      "    accuracy                           0.87      4797\n",
      "   macro avg       0.87      0.87      0.87      4797\n",
      "weighted avg       0.88      0.87      0.87      4797\n",
      "\n",
      "Epoch 16\n"
     ]
    },
    {
     "name": "stderr",
     "output_type": "stream",
     "text": [
      "Training: 100%|██████████| 2399/2399 [11:43<00:00,  3.41it/s]\n"
     ]
    },
    {
     "name": "stdout",
     "output_type": "stream",
     "text": [
      "Train loss: 0.0211\n"
     ]
    },
    {
     "name": "stderr",
     "output_type": "stream",
     "text": [
      "Evaluating: 100%|██████████| 300/300 [00:28<00:00, 10.56it/s]\n"
     ]
    },
    {
     "name": "stdout",
     "output_type": "stream",
     "text": [
      "Validation Accuracy: 0.8856\n",
      "              precision    recall  f1-score   support\n",
      "\n",
      "         EAP       0.90      0.87      0.89      1992\n",
      "         HPL       0.92      0.89      0.90      1307\n",
      "         MWS       0.84      0.90      0.87      1498\n",
      "\n",
      "    accuracy                           0.89      4797\n",
      "   macro avg       0.89      0.89      0.89      4797\n",
      "weighted avg       0.89      0.89      0.89      4797\n",
      "\n",
      "Model saved!\n",
      "Epoch 17\n"
     ]
    },
    {
     "name": "stderr",
     "output_type": "stream",
     "text": [
      "Training: 100%|██████████| 2399/2399 [11:43<00:00,  3.41it/s]\n"
     ]
    },
    {
     "name": "stdout",
     "output_type": "stream",
     "text": [
      "Train loss: 0.0222\n"
     ]
    },
    {
     "name": "stderr",
     "output_type": "stream",
     "text": [
      "Evaluating: 100%|██████████| 300/300 [00:28<00:00, 10.55it/s]\n"
     ]
    },
    {
     "name": "stdout",
     "output_type": "stream",
     "text": [
      "Validation Accuracy: 0.8726\n",
      "              precision    recall  f1-score   support\n",
      "\n",
      "         EAP       0.87      0.90      0.88      1992\n",
      "         HPL       0.96      0.80      0.87      1307\n",
      "         MWS       0.82      0.90      0.86      1498\n",
      "\n",
      "    accuracy                           0.87      4797\n",
      "   macro avg       0.88      0.87      0.87      4797\n",
      "weighted avg       0.88      0.87      0.87      4797\n",
      "\n",
      "Epoch 18\n"
     ]
    },
    {
     "name": "stderr",
     "output_type": "stream",
     "text": [
      "Training: 100%|██████████| 2399/2399 [11:43<00:00,  3.41it/s]\n"
     ]
    },
    {
     "name": "stdout",
     "output_type": "stream",
     "text": [
      "Train loss: 0.0225\n"
     ]
    },
    {
     "name": "stderr",
     "output_type": "stream",
     "text": [
      "Evaluating: 100%|██████████| 300/300 [00:28<00:00, 10.64it/s]\n"
     ]
    },
    {
     "name": "stdout",
     "output_type": "stream",
     "text": [
      "Validation Accuracy: 0.8826\n",
      "              precision    recall  f1-score   support\n",
      "\n",
      "         EAP       0.89      0.87      0.88      1992\n",
      "         HPL       0.91      0.89      0.90      1307\n",
      "         MWS       0.85      0.89      0.87      1498\n",
      "\n",
      "    accuracy                           0.88      4797\n",
      "   macro avg       0.88      0.88      0.88      4797\n",
      "weighted avg       0.88      0.88      0.88      4797\n",
      "\n",
      "Epoch 19\n"
     ]
    },
    {
     "name": "stderr",
     "output_type": "stream",
     "text": [
      "Training: 100%|██████████| 2399/2399 [11:41<00:00,  3.42it/s]\n"
     ]
    },
    {
     "name": "stdout",
     "output_type": "stream",
     "text": [
      "Train loss: 0.0211\n"
     ]
    },
    {
     "name": "stderr",
     "output_type": "stream",
     "text": [
      "Evaluating: 100%|██████████| 300/300 [00:28<00:00, 10.66it/s]\n"
     ]
    },
    {
     "name": "stdout",
     "output_type": "stream",
     "text": [
      "Validation Accuracy: 0.8858\n",
      "              precision    recall  f1-score   support\n",
      "\n",
      "         EAP       0.90      0.87      0.88      1992\n",
      "         HPL       0.90      0.90      0.90      1307\n",
      "         MWS       0.86      0.89      0.87      1498\n",
      "\n",
      "    accuracy                           0.89      4797\n",
      "   macro avg       0.89      0.89      0.89      4797\n",
      "weighted avg       0.89      0.89      0.89      4797\n",
      "\n",
      "Model saved!\n"
     ]
    }
   ],
   "source": [
    "best_val_acc = 0\n",
    "for epoch in range(1, 20): \n",
    "    torch.nn.utils.clip_grad_norm_(model.parameters(), max_norm=1.0)\n",
    "    print(f\"Epoch {epoch}\")\n",
    "    train_loss = train_epoch(model, train_loader, optimizer, criterion, device)\n",
    "    print(f\"Train loss: {train_loss:.4f}\")\n",
    "    val_acc, val_report = eval_model(model, val_loader, device, le)\n",
    "    print(f\"Validation Accuracy: {val_acc:.4f}\")\n",
    "    print(val_report)\n",
    "    if val_acc > best_val_acc:\n",
    "        best_val_acc = val_acc\n",
    "        torch.save(model.state_dict(), \"best_model.pt\")\n",
    "        print(\"Model saved!\")\n"
   ]
  },
  {
   "cell_type": "code",
   "execution_count": null,
   "metadata": {},
   "outputs": [
    {
     "name": "stderr",
     "output_type": "stream",
     "text": [
      "Evaluating: 100%|██████████| 300/300 [00:29<00:00, 10.23it/s]"
     ]
    },
    {
     "name": "stdout",
     "output_type": "stream",
     "text": [
      "Test Accuracy: 0.8816\n",
      "              precision    recall  f1-score   support\n",
      "\n",
      "         EAP       0.88      0.87      0.88      1992\n",
      "         HPL       0.90      0.90      0.90      1308\n",
      "         MWS       0.86      0.88      0.87      1497\n",
      "\n",
      "    accuracy                           0.88      4797\n",
      "   macro avg       0.88      0.88      0.88      4797\n",
      "weighted avg       0.88      0.88      0.88      4797\n",
      "\n"
     ]
    },
    {
     "name": "stderr",
     "output_type": "stream",
     "text": [
      "\n"
     ]
    }
   ],
   "source": [
    "model.load_state_dict(torch.load(\"best_model.pt\"))\n",
    "test_acc, test_report = eval_model(model, test_loader, device, le)\n",
    "print(f\"Test Accuracy: {test_acc:.4f}\")\n",
    "print(test_report)"
   ]
  }
 ],
 "metadata": {
  "kernelspec": {
   "display_name": "Python 3",
   "language": "python",
   "name": "python3"
  },
  "language_info": {
   "codemirror_mode": {
    "name": "ipython",
    "version": 3
   },
   "file_extension": ".py",
   "mimetype": "text/x-python",
   "name": "python",
   "nbconvert_exporter": "python",
   "pygments_lexer": "ipython3",
   "version": "3.12.0"
  }
 },
 "nbformat": 4,
 "nbformat_minor": 2
}
